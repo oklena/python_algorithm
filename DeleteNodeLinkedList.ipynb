{
 "cells": [
  {
   "cell_type": "code",
   "execution_count": 1,
   "metadata": {},
   "outputs": [
    {
     "name": "stdout",
     "output_type": "stream",
     "text": [
      "None\n"
     ]
    }
   ],
   "source": [
    "#Write a function to delete a node in a singly-linked list. You will not be given access to #the head of the list, instead you will be given access to the node to be deleted directly.\n",
    "\"\"\"\n",
    "                        DELETE THIS\n",
    " [HEAD_NODE] -> [NODE] -> [NODE] -> [NODE] -> [NODE]\n",
    " \n",
    "                            *\n",
    "                            \n",
    "    ['CAT' 'DOG' 'COW' 'SLOTH']\n",
    "    \n",
    "     ['CAT' 'DOG' 'SLOTH']\n",
    "     \n",
    "Input: head = [4,5,1,9], node = 1\n",
    "Output: [4,5,9]\n",
    "Explanation: You are given the third node with value 1, the linked list should become 4 -> 5 -> 9 after calling your function.\n",
    "\"\"\"     \n",
    "\n",
    "# Definition for singly-linked list.\n",
    "class ListNode:\n",
    "    def __init__(self, x):\n",
    "        self.val = x\n",
    "        self.next = None\n",
    "\n",
    "\n",
    "class Solution:\n",
    "    def deleteNode(self, node_to_delete: ListNode):\n",
    "\n",
    "        # if this isn't the last node\n",
    "        if node_to_delete.next is not None:\n",
    "            node_to_delete.val = node_to_delete.next.val\n",
    "            node_to_delete.next = node_to_delete.next.next\n",
    "        # if it is the last node\n",
    "        else:\n",
    "            node_to_delete = None\n",
    "\n",
    "solution = Solution()\n",
    "\n",
    "linkedListHead = ListNode('first')\n",
    "second = ListNode('second')\n",
    "third = ListNode('third')\n",
    "linkedListHead.next = second\n",
    "second.next = third\n",
    "\n",
    "print(solution.deleteNode(second))"
   ]
  },
  {
   "cell_type": "code",
   "execution_count": null,
   "metadata": {},
   "outputs": [],
   "source": []
  }
 ],
 "metadata": {
  "kernelspec": {
   "display_name": "python(illumidesk)",
   "language": "python",
   "name": "2020-10-illumidesk-env"
  },
  "language_info": {
   "codemirror_mode": {
    "name": "ipython",
    "version": 3
   },
   "file_extension": ".py",
   "mimetype": "text/x-python",
   "name": "python",
   "nbconvert_exporter": "python",
   "pygments_lexer": "ipython3",
   "version": "3.8.5"
  }
 },
 "nbformat": 4,
 "nbformat_minor": 4
}

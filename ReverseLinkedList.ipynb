{
 "cells": [
  {
   "cell_type": "code",
   "execution_count": 1,
   "metadata": {},
   "outputs": [],
   "source": [
    "class Node:\n",
    "    def __init__(self, value, next=None):\n",
    "        self.value = value\n",
    "        self.next = next\n",
    "\n",
    "    def print_list(self):\n",
    "        temp = self\n",
    "        while temp is not None:\n",
    "            print(temp.value, end=\" \")\n",
    "            temp = temp.next\n",
    "        print()\n",
    "\n",
    "\n",
    "    def reverse(head):\n",
    "        previous = None\n",
    "        current = head\n",
    "        next = None\n",
    "        while current is not None:\n",
    "            next = current.next\n",
    "            current.next = previous \n",
    "            previous = current\n",
    "            current = next\n",
    "        return previous\n",
    "\n",
    "\n",
    "    def main():\n",
    "        head = Node(2)\n",
    "        head.next = Node(4)\n",
    "        head.next.next = Node(6)\n",
    "        head.next.next.next = Node(8)\n",
    "        head.next.next.next.next = Node(10)\n",
    "\n",
    "        print(\"Nodes of original LinkedList are: \", end='')\n",
    "        head.print_list()\n",
    "        result = Node.reverse(head)\n",
    "        print(\"Nodes of reversed LinkedList are: \", end='')\n",
    "        result.print_list()"
   ]
  },
  {
   "cell_type": "code",
   "execution_count": 2,
   "metadata": {},
   "outputs": [
    {
     "name": "stdout",
     "output_type": "stream",
     "text": [
      "Nodes of original LinkedList are: 2 4 6 8 10 \n",
      "Nodes of reversed LinkedList are: 10 8 6 4 2 \n"
     ]
    }
   ],
   "source": [
    "Node.main()"
   ]
  },
  {
   "cell_type": "code",
   "execution_count": null,
   "metadata": {},
   "outputs": [],
   "source": []
  }
 ],
 "metadata": {
  "kernelspec": {
   "display_name": "python(illumidesk)",
   "language": "python",
   "name": "2020-10-illumidesk-env"
  },
  "language_info": {
   "codemirror_mode": {
    "name": "ipython",
    "version": 3
   },
   "file_extension": ".py",
   "mimetype": "text/x-python",
   "name": "python",
   "nbconvert_exporter": "python",
   "pygments_lexer": "ipython3",
   "version": "3.8.5"
  }
 },
 "nbformat": 4,
 "nbformat_minor": 4
}

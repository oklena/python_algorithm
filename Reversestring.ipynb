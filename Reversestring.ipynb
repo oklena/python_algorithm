{
 "cells": [
  {
   "cell_type": "code",
   "execution_count": 2,
   "metadata": {},
   "outputs": [
    {
     "name": "stdout",
     "output_type": "stream",
     "text": [
      "['h', 'a', 'n', 'n', 'a', 'H']\n"
     ]
    }
   ],
   "source": [
    "# Write a function that reverses a string. The input string is given as an array of characters char[].\n",
    "\n",
    "# Do not allocate extra space for another array, you must do this by modifying the input array in-place with O(1) extra memory.\n",
    "\n",
    "# You may assume all the characters consist of printable ascii characters.\n",
    "\n",
    "# Example 1:\n",
    "\n",
    "# Input: [\"h\",\"e\",\"l\",\"l\",\"o\"]\n",
    "# Output: [\"o\",\"l\",\"l\",\"e\",\"h\"]\n",
    "\n",
    "# Example 2:\n",
    "\n",
    "# Input: [\"H\",\"a\",\"n\",\"n\",\"a\",\"h\"]\n",
    "# Output: [\"h\",\"a\",\"n\",\"n\",\"a\",\"H\"]\n",
    "    \n",
    "     # loop through an array\n",
    "        # 1st pointer in the beginning\n",
    "        # 2nd pointer at the end\n",
    "        # temp value \n",
    "        \n",
    "def reverse_str(arr):\n",
    "    temp = 0\n",
    "    for i in range(len(arr)//2):\n",
    "        temp = arr[i]\n",
    "        arr[i] = arr[-(i+1)]\n",
    "        arr[-(i+1)] = temp\n",
    "    return arr\n",
    "\n",
    "print(reverse_str([\"H\",\"a\",\"n\",\"n\",\"a\",\"h\"]))\n"
   ]
  },
  {
   "cell_type": "code",
   "execution_count": 3,
   "metadata": {},
   "outputs": [],
   "source": [
    "class Solution:\n",
    "    def reverseString(self, s):\n",
    "        def helper(left, right):\n",
    "            if left < right:\n",
    "                s[left], s[right] = s[right], s[left]\n",
    "                helper(left + 1, right - 1)\n",
    "\n",
    "        helper(0, len(s) - 1)"
   ]
  },
  {
   "cell_type": "code",
   "execution_count": null,
   "metadata": {},
   "outputs": [],
   "source": [
    "class Solution:\n",
    "    def reverseString(self, s):\n",
    "        left, right = 0, len(s) - 1\n",
    "        while left < right:\n",
    "            s[left], s[right] = s[right], s[left]\n",
    "            left, right = left + 1, right - 1"
   ]
  }
 ],
 "metadata": {
  "kernelspec": {
   "display_name": "python(illumidesk)",
   "language": "python",
   "name": "2020-10-illumidesk-env"
  },
  "language_info": {
   "codemirror_mode": {
    "name": "ipython",
    "version": 3
   },
   "file_extension": ".py",
   "mimetype": "text/x-python",
   "name": "python",
   "nbconvert_exporter": "python",
   "pygments_lexer": "ipython3",
   "version": "3.8.5"
  }
 },
 "nbformat": 4,
 "nbformat_minor": 4
}

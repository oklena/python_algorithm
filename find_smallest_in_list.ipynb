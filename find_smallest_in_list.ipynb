{
 "cells": [
  {
   "cell_type": "code",
   "execution_count": 33,
   "metadata": {},
   "outputs": [
    {
     "name": "stdin",
     "output_type": "stream",
     "text": [
      "List: 2, 6, 8, 1, 5, 4\n"
     ]
    },
    {
     "name": "stdout",
     "output_type": "stream",
     "text": [
      "The list is  ['2', '6', '8', '1', '5', '4']\n",
      "Minimum element is: 1\n"
     ]
    }
   ],
   "source": [
    "# Python program to find smallest  \n",
    "# number in a list \n",
    "  \n",
    "# list of numbers \n",
    "my_list=[l for l in list(input(\"List:\").split(\", \"))] \n",
    "print(\"The list is \", my_list) \n",
    "\n",
    "min_elem = my_list[0]\n",
    "\n",
    "for i in range(len(my_list)):\n",
    "    if my_list[i] < min_elem:\n",
    "        min_elem = my_list[i]\n",
    "  \n",
    "\n",
    "print(\"Minimum element is:\", min_elem) \n"
   ]
  },
  {
   "cell_type": "code",
   "execution_count": null,
   "metadata": {},
   "outputs": [],
   "source": []
  }
 ],
 "metadata": {
  "kernelspec": {
   "display_name": "python(illumidesk)",
   "language": "python",
   "name": "2020-10-illumidesk-env"
  },
  "language_info": {
   "codemirror_mode": {
    "name": "ipython",
    "version": 3
   },
   "file_extension": ".py",
   "mimetype": "text/x-python",
   "name": "python",
   "nbconvert_exporter": "python",
   "pygments_lexer": "ipython3",
   "version": "3.8.5"
  }
 },
 "nbformat": 4,
 "nbformat_minor": 4
}

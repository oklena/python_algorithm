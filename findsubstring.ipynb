{
 "cells": [
  {
   "cell_type": "code",
   "execution_count": null,
   "metadata": {},
   "outputs": [],
   "source": [
    "\n",
    "\"\"\"\n",
    "Input: words = [\"mass\",\"as\",\"hero\",\"superhero\"]\n",
    "Output: [\"as\",\"hero\"]\n",
    "Explanation: \"as\" is substring of \"mass\" and \"hero\" is substring of \"superhero\".\n",
    "[\"hero\",\"as\"] is also a valid answer.\n",
    "\n",
    "Input: words = \n",
    "Output: [\"et\",\"code\"]\n",
    "Explanation: \"et\", \"code\" are substring of \"leetcode\".\n",
    "{c: 1, o: 1, d:1: e: 1}\n",
    "\n",
    "time complexity: n^2\n",
    "space complexity: n\n",
    "// result []\n",
    "// loooping through the array\n",
    "    // loop through array again\n",
    "        // check if a word is a substring of the rest of the words \n",
    "        // break out of the loop if word is a substring\n",
    "        // check if substring is aready existed in result\n",
    "        \n",
    "Optimize: \n",
    "// sort array: nlogn\n",
    "// \n",
    "\n",
    "https://leetcode.com/problems/string-matching-in-an-array/\n",
    "\n",
    "def findsubstring(input): // [\"as\",\"mass\",\"hero\",\"superhero\"]\n",
    "    [Superhero, earth, mass, hero, as]\n",
    "    i =earth\n",
    "    \n",
    "    \n",
    "    // [\"leetcode\",\"et\",\"od\"]\n",
    "    result = set() // []\n",
    "    \n",
    "    i=0\n",
    "    while i <len(input): //i = mass  j=hero\n",
    "        j = 0\n",
    "        while j<len(input):\n",
    "            if i !=j:\n",
    "                if input[i] in input[j]:\n",
    "                     result.append(input[i])\n",
    "            j=j+1\n",
    "        i=i+1\n",
    "    \n",
    "    print(result)\n",
    "    return result\n",
    "                \n",
    "\n",
    "findsubstring([\"leetcode\",\"et\",\"e\"])\n",
    "\n",
    "\n",
    "'''  "
   ]
  },
  {
   "cell_type": "code",
   "execution_count": 12,
   "metadata": {},
   "outputs": [],
   "source": [
    "def findsubstring(input):\n",
    "    result = []\n",
    "    for sub in input:\n",
    "        for word in input:\n",
    "            if sub in word and sub != word:\n",
    "                result.append(sub)\n",
    "    return list(set(result))"
   ]
  },
  {
   "cell_type": "code",
   "execution_count": 14,
   "metadata": {},
   "outputs": [
    {
     "data": {
      "text/plain": [
       "['hero', 'as']"
      ]
     },
     "execution_count": 14,
     "metadata": {},
     "output_type": "execute_result"
    }
   ],
   "source": [
    "findsubstring([\"as\",\"mass\",\"hero\",\"superhero\"])"
   ]
  },
  {
   "cell_type": "code",
   "execution_count": null,
   "metadata": {},
   "outputs": [],
   "source": []
  }
 ],
 "metadata": {
  "kernelspec": {
   "display_name": "python(illumidesk)",
   "language": "python",
   "name": "2020-10-illumidesk-env"
  },
  "language_info": {
   "codemirror_mode": {
    "name": "ipython",
    "version": 3
   },
   "file_extension": ".py",
   "mimetype": "text/x-python",
   "name": "python",
   "nbconvert_exporter": "python",
   "pygments_lexer": "ipython3",
   "version": "3.8.5"
  }
 },
 "nbformat": 4,
 "nbformat_minor": 4
}

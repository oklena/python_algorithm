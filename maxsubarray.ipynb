{
 "cells": [
  {
   "cell_type": "code",
   "execution_count": 3,
   "metadata": {},
   "outputs": [],
   "source": [
    "# my solution\n",
    "def max_sub_array_of_size_k(k, arr):\n",
    "  \n",
    "    out_arr = []\n",
    "    for i in range(len(arr)-k+1):\n",
    "        _sum = 0\n",
    "        for j in range(i, i+k):\n",
    "            _sum += arr[j]\n",
    "        out_arr.append(_sum)\n",
    "\n",
    "    max_ind = 0\n",
    "    for temp in range(len(out_arr)):\n",
    "        if out_arr[temp] > out_arr[max_ind]:\n",
    "            out_arr[max_ind] = out_arr[temp] \n",
    "    return out_arr[max_ind]\n"
   ]
  },
  {
   "cell_type": "code",
   "execution_count": 10,
   "metadata": {},
   "outputs": [],
   "source": [
    "def max_sub_array_of_size_k1(k, arr):\n",
    "  \n",
    "    max_sum = 0  \n",
    "    #out_arr = []\n",
    "    for i in range(len(arr)-k+1):\n",
    "        _sum = 0\n",
    "        for j in range(i, i+k):\n",
    "            _sum += arr[j]\n",
    "        #out_arr.append(_sum)\n",
    "        max_sum = max(max_sum, _sum)\n",
    "    return max_sum\n",
    "\n",
    "#     max_ind = 0\n",
    "#     for temp in range(len(out_arr)):\n",
    "#         if out_arr[temp] > out_arr[max_ind]:\n",
    "#             out_arr[max_ind] = out_arr[temp] \n",
    "#     return out_arr[max_ind]\n"
   ]
  },
  {
   "cell_type": "code",
   "execution_count": null,
   "metadata": {},
   "outputs": [],
   "source": [
    "[2, 1, 5, 1, 3, 2], k=3 \n",
    "[2, 3, 4, 1, 5], k=2 "
   ]
  },
  {
   "cell_type": "code",
   "execution_count": 12,
   "metadata": {},
   "outputs": [
    {
     "data": {
      "text/plain": [
       "10"
      ]
     },
     "execution_count": 12,
     "metadata": {},
     "output_type": "execute_result"
    }
   ],
   "source": [
    "max_sub_array_of_size_k1(3, [2, 3, 4, 1, 5])"
   ]
  },
  {
   "cell_type": "code",
   "execution_count": 6,
   "metadata": {},
   "outputs": [
    {
     "name": "stdout",
     "output_type": "stream",
     "text": [
      "Maximum sum of a subarray of size K: 9\n",
      "Maximum sum of a subarray of size K: 7\n"
     ]
    }
   ],
   "source": [
    "def max_sub_array_of_size_k(k, arr):\n",
    "    max_sum = 0\n",
    "    window_sum = 0\n",
    "\n",
    "    for i in range(len(arr) - k + 1):\n",
    "        window_sum = 0\n",
    "        for j in range(i, i+k):\n",
    "            window_sum += arr[j]\n",
    "        max_sum = max(max_sum, window_sum)\n",
    "    return max_sum\n",
    "\n",
    "\n",
    "def main():\n",
    "    print(\"Maximum sum of a subarray of size K: \" + str(max_sub_array_of_size_k(3, [2, 1, 5, 1, 3, 2])))\n",
    "    print(\"Maximum sum of a subarray of size K: \" + str(max_sub_array_of_size_k(2, [2, 3, 4, 1, 5])))\n",
    "\n",
    "\n",
    "main()"
   ]
  },
  {
   "cell_type": "code",
   "execution_count": 14,
   "metadata": {},
   "outputs": [
    {
     "name": "stdout",
     "output_type": "stream",
     "text": [
      "Maximum sum of a subarray of size K: 9\n",
      "Maximum sum of a subarray of size K: 7\n"
     ]
    }
   ],
   "source": [
    "def max_sub_array_of_size_k2(k, arr):\n",
    "    max_sum , window_sum = 0, 0\n",
    "    window_start = 0\n",
    "\n",
    "    for window_end in range(len(arr)):\n",
    "        window_sum += arr[window_end]  # add the next element\n",
    "        # slide the window, we don't need to slide if we've not hit the required window size of 'k'\n",
    "        if window_end >= k-1:\n",
    "            max_sum = max(max_sum, window_sum)\n",
    "            window_sum -= arr[window_start]  # subtract the element going out\n",
    "            window_start += 1  # slide the window ahead\n",
    "    return max_sum\n",
    "\n",
    "\n",
    "def main():\n",
    "    print(\"Maximum sum of a subarray of size K: \" + str(max_sub_array_of_size_k2(3, [2, 1, 5, 1, 3, 2])))\n",
    "    print(\"Maximum sum of a subarray of size K: \" + str(max_sub_array_of_size_k2(2, [2, 3, 4, 1, 5])))\n",
    "\n",
    "main()"
   ]
  },
  {
   "cell_type": "code",
   "execution_count": null,
   "metadata": {},
   "outputs": [],
   "source": [
    "import math\n",
    "\n",
    "\n",
    "def smallest_subarray_with_given_sum(s, arr):\n",
    "  window_sum = 0\n",
    "  min_length = math.inf\n",
    "  window_start = 0\n",
    "\n",
    "  for window_end in range(0, len(arr)):\n",
    "    window_sum += arr[window_end]  # add the next element\n",
    "    # shrink the window as small as possible until the 'window_sum' is smaller than 's'\n",
    "    while window_sum >= s:\n",
    "      min_length = min(min_length, window_end - window_start + 1)\n",
    "      window_sum -= arr[window_start]\n",
    "      window_start += 1\n",
    "  if min_length == math.inf:\n",
    "    return 0\n",
    "  return min_length\n",
    "\n",
    "\n",
    "def main():\n",
    "  print(\"Smallest subarray length: \" + str(smallest_subarray_with_given_sum(7, [2, 1, 5, 2, 3, 2])))\n",
    "  print(\"Smallest subarray length: \" + str(smallest_subarray_with_given_sum(7, [2, 1, 5, 2, 8])))\n",
    "  print(\"Smallest subarray length: \" + str(smallest_subarray_with_given_sum(8, [3, 4, 1, 1, 6])))\n",
    "\n",
    "\n",
    "main()"
   ]
  }
 ],
 "metadata": {
  "kernelspec": {
   "display_name": "python(illumidesk)",
   "language": "python",
   "name": "2020-10-illumidesk-env"
  },
  "language_info": {
   "codemirror_mode": {
    "name": "ipython",
    "version": 3
   },
   "file_extension": ".py",
   "mimetype": "text/x-python",
   "name": "python",
   "nbconvert_exporter": "python",
   "pygments_lexer": "ipython3",
   "version": "3.8.5"
  }
 },
 "nbformat": 4,
 "nbformat_minor": 4
}

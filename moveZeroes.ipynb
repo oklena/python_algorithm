{
 "cells": [
  {
   "cell_type": "code",
   "execution_count": 30,
   "metadata": {},
   "outputs": [],
   "source": [
    "# if empty - [] return empty array\n",
    "# if modify list in - place\n",
    "# Option 1 - move to the end\n",
    "# Option 2 - two pointers and swap the zeros with numbers we go.\n",
    "\"\"\"\n",
    "One pointer for index of the last zero\n",
    "One pointer for current index.\n",
    "Once we hit the non zero swap the elements in place.\n",
    "increment the last zero index.\n",
    "\n",
    "Input: [1,3,12,0,0]\n",
    "    lz=2   \n",
    "    \n",
    "Input: [0,1,0,3,12]\n",
    "Output: [1,3,12,0,0]\n",
    "\"\"\"\n",
    "\n",
    "\n",
    "#class Solution:\n",
    "def moveZeroes(nums):\n",
    "    \"\"\"\n",
    "    :type nums: List[int]\n",
    "    :rtype: void Do not return anything, modify nums in-place instead.\n",
    "    \"\"\"\n",
    "    pos = 0\n",
    "\n",
    "    for i in range(len(nums)):\n",
    "        el = nums[i]\n",
    "        if el != 0:\n",
    "            nums[pos], nums[i] = nums[i], nums[pos]\n",
    "            pos += 1\n",
    "    return nums"
   ]
  },
  {
   "cell_type": "code",
   "execution_count": null,
   "metadata": {},
   "outputs": [],
   "source": [
    "a=[0,1,0,3,12]\n",
    "z=0\n",
    "i=0\n",
    "    do nothing\n",
    "    z=0, i=1\n",
    "(a[1]!=0)\n",
    "        \n",
    "[1,0,0,3,12]\n",
    "z=1\n",
    "i=2\n",
    "        \n",
    "(a[2]!=0)\n",
    "z=1\n",
    "i=3\n",
    "(a[3]!=0) \n",
    "        swap(a[z], a[i]) => [1,3,0,0,12]\n",
    "        z=2\n",
    "        i=4\n",
    "(a[4]!=0)\n",
    "         swap(a[z], a[i]) => [1, 3, 12, 0, 0]\n",
    "         z=3\n",
    "        i=5 \n"
   ]
  },
  {
   "cell_type": "code",
   "execution_count": 27,
   "metadata": {},
   "outputs": [
    {
     "data": {
      "text/plain": [
       "[1, 5, 3, 12, 0, 0, 0]"
      ]
     },
     "execution_count": 27,
     "metadata": {},
     "output_type": "execute_result"
    }
   ],
   "source": [
    "moveZeroes([0,1,5,0,0,3,12])"
   ]
  },
  {
   "cell_type": "code",
   "execution_count": 28,
   "metadata": {},
   "outputs": [
    {
     "data": {
      "text/plain": [
       "[]"
      ]
     },
     "execution_count": 28,
     "metadata": {},
     "output_type": "execute_result"
    }
   ],
   "source": [
    "moveZeroes([])"
   ]
  },
  {
   "cell_type": "code",
   "execution_count": null,
   "metadata": {},
   "outputs": [],
   "source": [
    "int swapArray(int[] nums){ //[1,3,12,0,0]  /z = 2\n",
    "    int indexOfZero;\n",
    "    for(int i = 0; i < nums.length[]; i++){ //1\n",
    "        if(nums[i] != 0){ //z = 1\n",
    "            nums[indexOfZero] = nums[i]; // \n",
    "            nums[i] = 0;\n",
    "            indexOfZero++;\n",
    "        }\n",
    "    }\n",
    "    return 0;\n",
    "}"
   ]
  },
  {
   "cell_type": "code",
   "execution_count": null,
   "metadata": {},
   "outputs": [],
   "source": [
    "1st pointer:\n",
    "i \n",
    "i+1\n",
    "2nd pointer:\n",
    "p\n",
    "\n",
    "num[i] != num[i+1]\n",
    "\n",
    "nums = [0,1,2,3,4,0,2,1,3,1]\n",
    "\n",
    "FAST:                     |\n",
    "Slow:           |\n",
    "    \n",
    "int slow =0;\n",
    "for(int i=1; i<num.length, i++){\n",
    "    //i is the fast pointer\n",
    "    if(nums[slow] != nums[i]){\n",
    "        slow++;\n",
    "        nums[slow] = nums[i];\n",
    "    }\n",
    "    }\n",
    "return slow + 1\n",
    "}"
   ]
  }
 ],
 "metadata": {
  "kernelspec": {
   "display_name": "python(illumidesk)",
   "language": "python",
   "name": "2020-10-illumidesk-env"
  },
  "language_info": {
   "codemirror_mode": {
    "name": "ipython",
    "version": 3
   },
   "file_extension": ".py",
   "mimetype": "text/x-python",
   "name": "python",
   "nbconvert_exporter": "python",
   "pygments_lexer": "ipython3",
   "version": "3.8.5"
  }
 },
 "nbformat": 4,
 "nbformat_minor": 4
}
